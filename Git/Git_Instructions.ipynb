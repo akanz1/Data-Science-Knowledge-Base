{
 "cells": [
  {
   "cell_type": "markdown",
   "metadata": {},
   "source": [
    "# Setup and use Git"
   ]
  },
  {
   "cell_type": "markdown",
   "metadata": {},
   "source": [
    "## Installation"
   ]
  },
  {
   "cell_type": "markdown",
   "metadata": {},
   "source": [
    "Download git from https://git-scm.com/downloads"
   ]
  },
  {
   "cell_type": "markdown",
   "metadata": {},
   "source": [
    "Installing with default settings is fine:\n",
    "- Nano Editor \n",
    "- Command Line and 3rd Party \n",
    "- OpenSSL Lib \n",
    "- Checkout Style \n",
    "- mintty"
   ]
  },
  {
   "cell_type": "markdown",
   "metadata": {},
   "source": [
    "## Setup"
   ]
  },
  {
   "cell_type": "markdown",
   "metadata": {},
   "source": [
    "#### Run Git Bash"
   ]
  },
  {
   "cell_type": "markdown",
   "metadata": {},
   "source": [
    "Global Settings:\n",
    "- `git config --global user.name \"your name\"`\n",
    "- `git config --global user.email \"your email\"`"
   ]
  },
  {
   "cell_type": "markdown",
   "metadata": {},
   "source": [
    "Create SSH-Key (Secure Shell Key):\n",
    "- `ssh-keygen -t rsa -b 4096 -C \"your email\"`\n",
    "- confirm with \"enter\" multiple times to save the key in the base directory in ~/.ssh and to skip setting a password"
   ]
  },
  {
   "cell_type": "markdown",
   "metadata": {},
   "source": [
    "(Optional):\n",
    "- Check ~/.ssh to see if <u>two</u> keys were created. (use `cd ~/.ssh` to change directory and `ls` to list the content or simply use your explorer to navigate to the folder.) You should find:\n",
    "    - id_rsa\n",
    "    - id_rsa.pub"
   ]
  },
  {
   "cell_type": "markdown",
   "metadata": {},
   "source": [
    "Register the key with the SSH-agent (helper programm):\n",
    "- start SSH-agent: `eval \"$(ssh-agent -s)\"`\n",
    "\n",
    "- add <u>private</u> key: `ssh-add ~/.ssh/id_rsa`"
   ]
  },
  {
   "cell_type": "markdown",
   "metadata": {},
   "source": [
    "## Connect to GitLab / GitHub / etc."
   ]
  },
  {
   "cell_type": "markdown",
   "metadata": {},
   "source": [
    "Copy <u>public</u> key:\n",
    "- `cat ~/.ssh/id_rsa.pub | clip`"
   ]
  },
  {
   "cell_type": "markdown",
   "metadata": {},
   "source": [
    "Add key to GitLab/GitHub:\n",
    "- navigate to the website\n",
    "- find settings\n",
    "- paste clipped SSH-Key and save"
   ]
  },
  {
   "cell_type": "markdown",
   "metadata": {},
   "source": [
    "## Start using git with a remote repository"
   ]
  },
  {
   "cell_type": "markdown",
   "metadata": {},
   "source": [
    "Navigate to desired folder within git bash using `cd`"
   ]
  },
  {
   "cell_type": "markdown",
   "metadata": {},
   "source": [
    "Clone remote repository:\n",
    "- `git clone ssh://...link_here.git` (link can be found in the repository)\n",
    "This will create a local copy of the repository, which allows you to work locally and push your changes at a later time."
   ]
  },
  {
   "cell_type": "markdown",
   "metadata": {},
   "source": [
    "### Basic Commands"
   ]
  },
  {
   "cell_type": "markdown",
   "metadata": {},
   "source": [
    "- `git status` - to check the current status\n",
    "- `git diff` - compare two files / versions / commits\n",
    "- `git log -n 5` - show history of last 5 commits\n",
    "- `git reflog` - show history based on last accessed commits\n",
    "- `git help` - get help on specific commands and functions\n",
    "\n",
    "\n",
    "Adding/Staging files (to the index (track them with git)):\n",
    "- `git add -A` - add <u>all new / stage all modified files</u> in the repository\n",
    "- `git add -u` - stage <u>only the already tracked and modified files</u>\n",
    "- `git add .` - add/stage <u>all files in the current directory and below</u>\n",
    "- `git add \"filename\"` - add/stage <u>a specific file</u>\n",
    "\n",
    "\n",
    "- `git reset` - to remove files from the staging area\n",
    "\n",
    "\n",
    "Commit files:\n",
    "- `git commit -m \"commit message\"` - to commit the changes to your <u>local</u> repository\n",
    "- `git commit --amend -m \"new commit message\"` - edit the previous commit (add staged files and/or change commit message)\n",
    "\n",
    "\n",
    "Interact with remote repository:\n",
    "- `git push -u origin` or subsequently `git push` - to push/send your previously made commits to the remote repository\n",
    "- `git fetch` - to fetch the current remote repository\n",
    "- `git merge` - to merge the fetched remote repository with the local version\n",
    "- `git pull` - git fetch + git merge\n",
    "\n",
    "\n",
    "Reset to a previous commit:\n",
    "- `git reset --soft hash_of_commit` - switch back to specified commit (changes are not reverted)\n",
    "- `git reset hash_of_commit` - default reset (mixed), switch back to specified commit and 'uncommit' changes\n",
    "- `git reset --hard hash_of_commit` - revert all changes of the tracked files\n",
    "- `git clean -df` - clean untracked directories and files"
   ]
  },
  {
   "cell_type": "markdown",
   "metadata": {},
   "source": [
    "### Branching"
   ]
  },
  {
   "cell_type": "markdown",
   "metadata": {},
   "source": [
    "- `git branch name_of_branch` - Create a new branch e.g. when starting to work on a feature\n",
    "- `git checkout name_of_branch` - Checkout the branch to work on it\n",
    "- edit, stage, commit and push (-u origin/name_of_branch) as desired to the new branch\n",
    "\n",
    "\n",
    "- `git checkout master` - to switch to the master branch\n",
    "- `git pull` or `git fetch` and `git merge` (origin/master) - to get the latest version of the remote repository\n",
    "- `git merge name_of_branch` - to merge the desired branch with the master branch\n",
    "- `git push` - to origin/master\n",
    "\n",
    "\n",
    "- `git branch -d name_of_branch` - to delete the <u>local</u> version of the branch in case it is no longer needed\n",
    "- `git push origin --delete name_of_branch` - to delete the <u>remote</u> version of the branch\n",
    "\n",
    "\n",
    "- `git branch -a` - to show all currently known local and remote branches"
   ]
  },
  {
   "cell_type": "markdown",
   "metadata": {},
   "source": [
    "## Further information"
   ]
  },
  {
   "cell_type": "markdown",
   "metadata": {},
   "source": [
    "To set a user.name and/or user.email (which differs from the global settings) for a repository, navigate to the respective folder using `cd`, then run the following command(s):\n",
    "- `git config user.name \"your name\"`\n",
    "- `git config user.email \"your email\"`\n",
    "\n",
    "The global settings are not affected by this."
   ]
  },
  {
   "cell_type": "markdown",
   "metadata": {},
   "source": [
    "#### .bashrc"
   ]
  },
  {
   "cell_type": "markdown",
   "metadata": {},
   "source": [
    "To set the <u>standard path for git bash</u> add the following line to the .bashrc file or create a .bashrc file in the base directory.\n",
    "\n",
    "`cd C:/Users/Username/Documents/.../;` "
   ]
  },
  {
   "cell_type": "markdown",
   "metadata": {},
   "source": [
    "In case your <u>ssh-agent does not start properly</u> copy the following snippet into the <b>.bashrc</b> file:"
   ]
  },
  {
   "cell_type": "raw",
   "metadata": {},
   "source": [
    "env=~/.ssh/agent.env\n",
    "\n",
    "agent_load_env () { test -f \"$env\" && . \"$env\" >| /dev/null ; }\n",
    "\n",
    "agent_start () {\n",
    "    (umask 077; ssh-agent >| \"$env\")\n",
    "    . \"$env\" >| /dev/null ; }\n",
    "\n",
    "agent_load_env\n",
    "\n",
    "# agent_run_state: 0=agent running w/ key; 1=agent w/o key; 2= agent not running\n",
    "agent_run_state=$(ssh-add -l >| /dev/null 2>&1; echo $?)\n",
    "\n",
    "if [ ! \"$SSH_AUTH_SOCK\" ] || [ $agent_run_state = 2 ]; then\n",
    "    agent_start\n",
    "    ssh-add\n",
    "elif [ \"$SSH_AUTH_SOCK\" ] && [ $agent_run_state = 1 ]; then\n",
    "    ssh-add\n",
    "fi\n",
    "\n",
    "unset env"
   ]
  },
  {
   "cell_type": "markdown",
   "metadata": {},
   "source": [
    "#### Updating git"
   ]
  },
  {
   "cell_type": "markdown",
   "metadata": {},
   "source": [
    "When running `git update-git-for-windows` it may be necessary to close the gpg-agent. => `gpgconf --kill gpg-agent`"
   ]
  },
  {
   "cell_type": "code",
   "execution_count": null,
   "metadata": {},
   "outputs": [],
   "source": []
  }
 ],
 "metadata": {
  "kernelspec": {
   "display_name": "Python 3",
   "language": "python",
   "name": "python3"
  },
  "language_info": {
   "codemirror_mode": {
    "name": "ipython",
    "version": 3
   },
   "file_extension": ".py",
   "mimetype": "text/x-python",
   "name": "python",
   "nbconvert_exporter": "python",
   "pygments_lexer": "ipython3",
   "version": "3.7.3"
  }
 },
 "nbformat": 4,
 "nbformat_minor": 4
}
