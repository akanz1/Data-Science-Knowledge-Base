{
 "cells": [
  {
   "cell_type": "markdown",
   "metadata": {},
   "source": [
    "# Setup and use Git"
   ]
  },
  {
   "cell_type": "markdown",
   "metadata": {},
   "source": [
    "## Installation"
   ]
  },
  {
   "cell_type": "markdown",
   "metadata": {},
   "source": [
    "Download git from https://git-scm.com/downloads"
   ]
  },
  {
   "cell_type": "markdown",
   "metadata": {},
   "source": [
    "Installing with default settings is fine:\n",
    "- Nano Editor \n",
    "- Command Line and 3rd Party \n",
    "- OpenSSL Lib \n",
    "- Checkout Style \n",
    "- mintty"
   ]
  },
  {
   "cell_type": "markdown",
   "metadata": {},
   "source": [
    "## Setup"
   ]
  },
  {
   "cell_type": "markdown",
   "metadata": {},
   "source": [
    "#### Run Git Bash"
   ]
  },
  {
   "cell_type": "markdown",
   "metadata": {},
   "source": [
    "Global Settings:\n",
    "- `git config --global user.name \"your name\"`\n",
    "- `git config --global user.email \"your email\"`"
   ]
  },
  {
   "cell_type": "markdown",
   "metadata": {},
   "source": [
    "Create SSH-Key (Secure Shell Key):\n",
    "- `ssh-keygen -t rsa -b 4096 -C \"your email\"`\n",
    "- confirm with \"enter\" multiple times to save the key in the base directory in ~/.ssh and to skip setting a password"
   ]
  },
  {
   "cell_type": "markdown",
   "metadata": {},
   "source": [
    "(Optional):\n",
    "- Check ~/.ssh to see if <u>two</u> keys were created. (use `cd ~/.ssh` to change directory and `ls` to list the content or simply use your explorer to navigate to the folder.) You should find:\n",
    "    - id_rsa\n",
    "    - id_rsa.pub"
   ]
  },
  {
   "cell_type": "markdown",
   "metadata": {},
   "source": [
    "Register the key with the SSH-agent (helper programm):\n",
    "- start SSH-agent: `eval \"$(ssh-agent -s)\"`\n",
    "\n",
    "- add <u>private</u> key: `ssh-add ~/.ssh/id_rsa`"
   ]
  },
  {
   "cell_type": "markdown",
   "metadata": {},
   "source": [
    "## Connect to GitLab / GitHub / etc."
   ]
  },
  {
   "cell_type": "markdown",
   "metadata": {},
   "source": [
    "Copy <u>public</u> key:\n",
    "- `cat ~/.ssh/id_rsa.pub | clip`"
   ]
  },
  {
   "cell_type": "markdown",
   "metadata": {},
   "source": [
    "Add key to GitLab/GitHub:\n",
    "- navigate to the website\n",
    "- find settings\n",
    "- paste clipped SSH-Key and save"
   ]
  },
  {
   "cell_type": "markdown",
   "metadata": {},
   "source": [
    "## Start using git with a remote repository"
   ]
  },
  {
   "cell_type": "markdown",
   "metadata": {},
   "source": [
    "Navigate to desired folder within git bash using `cd`"
   ]
  },
  {
   "cell_type": "markdown",
   "metadata": {},
   "source": [
    "Clone remote repository:\n",
    "- `git clone ssh://...link_here.git` (link can be found in the repository)\n",
    "This will create a local copy of the repository, which allows you to work locally and push your changes at a later time."
   ]
  },
  {
   "cell_type": "markdown",
   "metadata": {},
   "source": [
    "### Commands"
   ]
  },
  {
   "cell_type": "markdown",
   "metadata": {},
   "source": [
    "- `git status` - to check the current status\n",
    "- `git diff` - compare two files / versions / commits\n",
    "- `git log` - show history\n",
    "- `git help` - get help on specific commands and functions\n",
    "\n",
    "\n",
    "- `git add \"file\"` or `git add .` - to add/stage your files to the index (track them with git)\n",
    "- `git remove -v` - to remove a file from the staging area\n",
    "- `git commit -m \"commit message\"` - to commit the changes to your <u>local</u> repository\n",
    "\n",
    "\n",
    "- `git push -u origin` or subsequently `git push` - to push/send your previously made commits to the remote repository\n",
    "- `git fetch` - to fetch the current remote repository\n",
    "- `git merge` - to merge the fetched remote repository with the local version\n",
    "- `git pull` - git fetch + git merge\n",
    "\n",
    "\n",
    "To discard all local changes and get the current remote master run:\n",
    "- `git reset` --hard origin/master"
   ]
  },
  {
   "cell_type": "markdown",
   "metadata": {},
   "source": [
    "## Further information"
   ]
  },
  {
   "cell_type": "markdown",
   "metadata": {},
   "source": [
    "To set a user.name and/or user.email (which differs from the global settings) for a repository, navigate to the respective folder using `cd`, then run the following command(s):\n",
    "- `git config user.name \"your name\"`\n",
    "- `git config user.email \"your email\"`\n",
    "\n",
    "The global settings are not affected by this."
   ]
  },
  {
   "cell_type": "code",
   "execution_count": null,
   "metadata": {},
   "outputs": [],
   "source": []
  }
 ],
 "metadata": {
  "kernelspec": {
   "display_name": "Python 3",
   "language": "python",
   "name": "python3"
  },
  "language_info": {
   "codemirror_mode": {
    "name": "ipython",
    "version": 3
   },
   "file_extension": ".py",
   "mimetype": "text/x-python",
   "name": "python",
   "nbconvert_exporter": "python",
   "pygments_lexer": "ipython3",
   "version": "3.7.3"
  }
 },
 "nbformat": 4,
 "nbformat_minor": 4
}
